{
 "cells": [
  {
   "cell_type": "markdown",
   "metadata": {},
   "source": [
    "Ejercicio 1: Uso de ciclos while en Python"
   ]
  },
  {
   "cell_type": "markdown",
   "metadata": {},
   "source": [
    "En este ejercicio, estás creando una aplicación que solicita a un usuario que ingrese una lista de planetas. En un ejercicio posterior, agregarás código que muestre la lista. Por ahora, crearás solo el código que solicita al usuario la lista de planetas."
   ]
  },
  {
   "cell_type": "code",
   "execution_count": 4,
   "metadata": {},
   "outputs": [],
   "source": [
    "# Declara dos variables\n",
    "planetas=[]\n",
    "entrada=''\n",
    "# Escribe el ciclo while solicitado\n",
    "while entrada.lower() != 'listo':\n",
    "    if entrada:\n",
    "        planetas.append(entrada)\n",
    "    entrada=input(\"INgrese un planeta o escriba listo si ha terminado\")"
   ]
  },
  {
   "cell_type": "markdown",
   "metadata": {},
   "source": [
    "Ejercicio 2: Creación de un ciclo \"for\"\n",
    "\n",
    "Crea un ciclo for para iterar sobre la lista planets. Puedes usar como nombre de la variable planet para cada planeta. Dentro del ciclo for, recuerda utilizar print para mostrar cada planet."
   ]
  },
  {
   "cell_type": "code",
   "execution_count": 5,
   "metadata": {},
   "outputs": [
    {
     "name": "stdout",
     "output_type": "stream",
     "text": [
      "Los planetas ingresados son los siguientes: \n",
      "mercurio\n",
      "venus\n",
      "tierra\n",
      "marte\n",
      "jupiter\n",
      "saturno\n",
      "urano\n",
      "neptuno\n"
     ]
    }
   ],
   "source": [
    "# Escribe tu ciclo for para iterar en una lista de planetas\n",
    "print(\"Los planetas ingresados son los siguientes: \")\n",
    "for planeta in planetas:\n",
    "    print(planeta)"
   ]
  }
 ],
 "metadata": {
  "interpreter": {
   "hash": "fe06f96167c4fc64a78c238d993189072a4e72b444216e36203d6f96126eaf0a"
  },
  "kernelspec": {
   "display_name": "Python 3.9.6 64-bit",
   "language": "python",
   "name": "python3"
  },
  "language_info": {
   "codemirror_mode": {
    "name": "ipython",
    "version": 3
   },
   "file_extension": ".py",
   "mimetype": "text/x-python",
   "name": "python",
   "nbconvert_exporter": "python",
   "pygments_lexer": "ipython3",
   "version": "3.9.6"
  },
  "orig_nbformat": 4
 },
 "nbformat": 4,
 "nbformat_minor": 2
}
