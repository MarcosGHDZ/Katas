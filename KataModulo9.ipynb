{
 "cells": [
  {
   "cell_type": "markdown",
   "metadata": {},
   "source": [
    "Ejercicio: Uso de funciones en Python\n",
    "Ejercicio 1: Trabajar con argumentos en funciones"
   ]
  },
  {
   "cell_type": "markdown",
   "metadata": {},
   "source": [
    "Comienza por crear una función que necesite tres lecturas de combustible y devuelva un informe:"
   ]
  },
  {
   "cell_type": "code",
   "execution_count": 10,
   "metadata": {},
   "outputs": [
    {
     "name": "stdout",
     "output_type": "stream",
     "text": [
      "Tanque 1: 200 litros.\n",
      "Tanque 2: 56899 litros.\n",
      "Tanque 3: 4578 litros.\n",
      "El promedio de combustible es de: 20559 litros\n"
     ]
    }
   ],
   "source": [
    "# Función para leer 3 tanques de combustible y muestre el promedio\n",
    "def combustible(t1,t2,t3):\n",
    "    prom=round((t1+t2+t3)/3)\n",
    "    print(\"Tanque 1:\",t1,\"litros.\")\n",
    "    print(\"Tanque 2:\",t2,\"litros.\")\n",
    "    print(\"Tanque 3:\",t3,\"litros.\")\n",
    "    print(\"El promedio de combustible es de:\",prom,\"litros\")\n",
    "\n",
    "combustible(200,56899,4578)\n"
   ]
  },
  {
   "cell_type": "markdown",
   "metadata": {},
   "source": [
    " Mejora la legibilidad extrayendo el cálculo promedio de la función en una nueva función para que el promedio se pueda hacer de forma independiente:"
   ]
  },
  {
   "cell_type": "code",
   "execution_count": 11,
   "metadata": {},
   "outputs": [
    {
     "name": "stdout",
     "output_type": "stream",
     "text": [
      "Tanque 1: 200 litros.\n",
      "Tanque 2: 56899 litros.\n",
      "Tanque 3: 4578 litros.\n",
      "El promedio de combustible es de: 20559 litros\n"
     ]
    }
   ],
   "source": [
    "# Función promedio \n",
    "def promedio(n1,n2,n3):\n",
    "    prom=round((n1+n2+n3)/3)\n",
    "    return prom\n",
    "\n",
    "#Ahora actualiza la función de informes para llamando a la nueva función del promedio:\n",
    "def combustible(t1,t2,t3):\n",
    "    prom=promedio(t1,t2,t3)\n",
    "    print(\"Tanque 1:\",t1,\"litros.\")\n",
    "    print(\"Tanque 2:\",t2,\"litros.\")\n",
    "    print(\"Tanque 3:\",t3,\"litros.\")\n",
    "    print(\"El promedio de combustible es de:\",prom,\"litros\")\n",
    "\n",
    "combustible(200,56899,4578)"
   ]
  },
  {
   "cell_type": "markdown",
   "metadata": {},
   "source": [
    "Ejercicio 2: Trabajo con argumentos de palabra clave"
   ]
  },
  {
   "cell_type": "markdown",
   "metadata": {},
   "source": [
    "En este ejercicio, construirás un informe de cohete que requiere varias piezas de información, como el tiempo hasta el destino, el combustible a la izquierda y el nombre del destino. Comienza por crear una función que creará un informe preciso de la misión:"
   ]
  },
  {
   "cell_type": "code",
   "execution_count": 15,
   "metadata": {},
   "outputs": [
    {
     "name": "stdout",
     "output_type": "stream",
     "text": [
      "Informe de misión\n",
      "------------------------------------------------------------\n",
      "Destino: marte\n",
      "Tiempo total del viaje: 45 minutos.\n",
      "Combustible en tanque externo: 2430 litros.\n",
      "Combustible en tanque interno: 8374 litros.\n"
     ]
    }
   ],
   "source": [
    "# Función con un informe preciso de la misión. \n",
    "# Considera hora de prelanzamiento, tiempo de vuelo, destino, tanque externo y tanque interno\n",
    "\n",
    "def informeMision(timepo_pre_lan,tiempo_vuelo,destino,tanque_externo,tanque_interno):\n",
    "    total_vuelo=tiempo_vuelo+timepo_pre_lan\n",
    "    print(\"Informe de misión\")\n",
    "    print(\"-\"*60)\n",
    "    print(\"Destino:\",destino)\n",
    "    print(\"Tiempo total del viaje:\",total_vuelo,\"minutos.\")\n",
    "    print(\"Combustible en tanque externo:\",tanque_externo,\"litros.\")\n",
    "    print(\"Combustible en tanque interno:\",tanque_interno,\"litros.\")\n",
    "\n",
    "informeMision(30,15,'marte',2430,8374)\n"
   ]
  },
  {
   "cell_type": "markdown",
   "metadata": {},
   "source": [
    " Hazlo más flexible permitiendo cualquier número de pasos basados en el tiempo y cualquier número de tanques."
   ]
  },
  {
   "cell_type": "code",
   "execution_count": 18,
   "metadata": {},
   "outputs": [
    {
     "name": "stdout",
     "output_type": "stream",
     "text": [
      "\n",
      "  Destino:marte\n",
      "  Tiempo total de viaje:65 minutos\n",
      "  Total combustible:1643783\n"
     ]
    }
   ],
   "source": [
    "def informeMision(destino,*minutos,**tanques):\n",
    "  print(f\"\"\"\n",
    "  Destino:{destino}\n",
    "  Tiempo total de viaje:{sum(minutos)} minutos\n",
    "  Total combustible:{sum(tanques.values())}\"\"\")\n",
    "\n",
    "informeMision('marte',15,20,30,principal=205674,secundario=882772,emergenci=555337)\n"
   ]
  },
  {
   "cell_type": "markdown",
   "metadata": {},
   "source": [
    "Debido a que el combustible que queda en los tanques es específico de cada tanque, actualiza la función para usar el nombre de cada tanque en el informe:"
   ]
  },
  {
   "cell_type": "code",
   "execution_count": 45,
   "metadata": {},
   "outputs": [
    {
     "name": "stdout",
     "output_type": "stream",
     "text": [
      "\n",
      "    Destino:marte\n",
      "    Tiempo total de viaje:65 minutos\n",
      "    Total combustible:1643783\n",
      "    Tanque principal: 205674 litros\n",
      "    Tanque secundario: 882772 litros\n",
      "    Tanque emergencia: 555337 litros\n",
      "    \n"
     ]
    }
   ],
   "source": [
    "def informeMision(destino,*minutos,**tanques):\n",
    "    reporte=f\"\"\"\n",
    "    Destino:{destino}\n",
    "    Tiempo total de viaje:{sum(minutos)} minutos\n",
    "    Total combustible:{sum(tanques.values())}\n",
    "    \"\"\"\n",
    "    for tanque,valor in tanques.items():\n",
    "        reporte=reporte + f'Tanque {tanque}: {valor} litros\\n    '\n",
    "    return reporte\n",
    "\n",
    "print(informeMision('marte',15,20,30,principal=205674,secundario=882772,emergencia=555337))"
   ]
  }
 ],
 "metadata": {
  "interpreter": {
   "hash": "fe06f96167c4fc64a78c238d993189072a4e72b444216e36203d6f96126eaf0a"
  },
  "kernelspec": {
   "display_name": "Python 3.9.6 64-bit",
   "language": "python",
   "name": "python3"
  },
  "language_info": {
   "codemirror_mode": {
    "name": "ipython",
    "version": 3
   },
   "file_extension": ".py",
   "mimetype": "text/x-python",
   "name": "python",
   "nbconvert_exporter": "python",
   "pygments_lexer": "ipython3",
   "version": "3.9.6"
  },
  "orig_nbformat": 4
 },
 "nbformat": 4,
 "nbformat_minor": 2
}
