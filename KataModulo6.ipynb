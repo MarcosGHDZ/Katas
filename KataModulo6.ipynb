{
 "cells": [
  {
   "cell_type": "markdown",
   "metadata": {},
   "source": [
    "Ejercicio1: Crear y usar listas de Python\n",
    "\n",
    "En primer lugar, crea una variable denominada planets. Agrega los ocho planetas (sin Plutón) a la lista. A continuación, muestra el número de planetas."
   ]
  },
  {
   "cell_type": "code",
   "execution_count": 7,
   "metadata": {},
   "outputs": [
    {
     "name": "stdout",
     "output_type": "stream",
     "text": [
      "Los  8  son:  ['Mercurio', 'Venus', 'Tierra', 'Marte', 'Jupiter', 'Saturno', 'Urano', 'Neptuno']\n"
     ]
    }
   ],
   "source": [
    "planetas=['Mercurio','Venus','Tierra','Marte','Jupiter','Saturno','Urano','Neptuno']\n",
    "cantidad_planetas=planetas.__len__()\n",
    "print(\"Los \",cantidad_planetas,\" son: \",planetas)"
   ]
  },
  {
   "cell_type": "code",
   "execution_count": 8,
   "metadata": {},
   "outputs": [
    {
     "name": "stdout",
     "output_type": "stream",
     "text": [
      "Los  9  son:  ['Mercurio', 'Venus', 'Tierra', 'Marte', 'Jupiter', 'Saturno', 'Urano', 'Neptuno', 'Plutón']\n"
     ]
    }
   ],
   "source": [
    "#agregar a plutón\n",
    "planetas.append(\"Plutón\")\n",
    "cantidad_planetas=planetas.__len__()\n",
    "print(\"Los \",cantidad_planetas,\" son: \",planetas)"
   ]
  },
  {
   "cell_type": "markdown",
   "metadata": {},
   "source": [
    "Ejercicio 2: Trabajando con datos de una lista"
   ]
  },
  {
   "cell_type": "code",
   "execution_count": 13,
   "metadata": {},
   "outputs": [
    {
     "name": "stdout",
     "output_type": "stream",
     "text": [
      "Los planetas mas cercanos al sól que  Urano  son:  ['Mercurio', 'Venus', 'Tierra', 'Marte', 'Jupiter', 'Saturno']\n",
      "Los planetas mas lejanos al sól que  Urano  son:  ['Neptuno', 'Plutón']\n"
     ]
    }
   ],
   "source": [
    "# Lista de planetas ya creada arriba\n",
    "#buscar un planeta dado por el usr\n",
    "buscar=input(\"ingrese el planeta que desea buscar, favor de poner la primera letra en mayúscula\")\n",
    "\n",
    "# Busca el planeta en la lista\n",
    "planeta_pivote=planetas.index(buscar)\n",
    "# Muestra los planetas más cercanos al sol\n",
    "print(\"Los planetas mas cercanos al sól que \",buscar,\" son: \",planetas[0:planeta_pivote])\n",
    "# Muestra los planetas más lejanos al sol\n",
    "print(\"Los planetas mas lejanos al sól que \",buscar,\" son: \",planetas[planeta_pivote+1:])"
   ]
  }
 ],
 "metadata": {
  "interpreter": {
   "hash": "fe06f96167c4fc64a78c238d993189072a4e72b444216e36203d6f96126eaf0a"
  },
  "kernelspec": {
   "display_name": "Python 3.9.6 64-bit",
   "language": "python",
   "name": "python3"
  },
  "language_info": {
   "codemirror_mode": {
    "name": "ipython",
    "version": 3
   },
   "file_extension": ".py",
   "mimetype": "text/x-python",
   "name": "python",
   "nbconvert_exporter": "python",
   "pygments_lexer": "ipython3",
   "version": "3.9.6"
  },
  "orig_nbformat": 4
 },
 "nbformat": 4,
 "nbformat_minor": 2
}
